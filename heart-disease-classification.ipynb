{
 "cells": [
  {
   "cell_type": "markdown",
   "id": "66f883cd",
   "metadata": {},
   "source": [
    "# Heart Disease Prediction\n",
    "\n",
    "This notebook uses various Python-based ML and data science libraries to build a model capable of predicting whether or not someone has heart disease based on their medical attributes\n",
    "\n",
    "Contents:\n",
    "1. [Problem Definition](#section_1)\n",
    "2. [Data](#section_2)\n",
    "3. [Evaluation](#section_3)\n",
    "4. [Features](#section_4)\n",
    "5. [Modelling](#section_5)\n",
    "6. [Experimentation](#section_6)\n",
    "\n",
    "## 1. Problem Definition\n",
    "\n",
    "In brief,\n",
    "> Given clinical parameters of a patient, can we predict whether or not they have heart disease?\n",
    "\n",
    "## 2. Data\n",
    "\n",
    "Using a [UCI Heart Disease Dataset](https://archive.ics.uci.edu/dataset/45/heart+disease)\n",
    "- Original dataset has 76 features but this is a subset using only 14\n",
    "\n",
    "## 3. Evaluation\n",
    "\n",
    "> If we can reach 95% accuracy during proof of concept then we will pursue the project.\n",
    "\n",
    "## 4. Features\n",
    "\n",
    "Info about the different data features:\n",
    "\n",
    "1. age in years   \n",
    "2. sex\n",
    "    - 1 = male\n",
    "    - 0 = female\n",
    "3. cp: chest pain type\n",
    "    - Value 1: typical angina\n",
    "    - Value 2: atypical angina\n",
    "    - Value 3: non-anginal pain\n",
    "    - Value 4: asymptomatic       \n",
    "4. trestbps: resting blood pressure (in mm Hg on admission to the hospital)\n",
    "5. chol: serum cholestoral in mg/dl \n",
    "6. fbs: (fasting blood sugar > 120 mg/dl)  (1 = true; 0 = false)    \n",
    "7. restecg: resting electrocardiographic results\n",
    "    - Value 0: normal\n",
    "    - Value 1: having ST-T wave abnormality (T wave inversions and/or ST elevation or depression of > 0.05 mV)\n",
    "    - Value 2: showing probable or definite left ventricular hypertrophy by Estes' criteria \n",
    "8. thalach: maximum heart rate achieved  \n",
    "9. exang: exercise induced angina (1 = yes; 0 = no)  \n",
    "10. oldpeak = ST depression induced by exercise relative to rest\n",
    "11. slope: the slope of the peak exercise ST segment\n",
    "    - Value 1: upsloping\n",
    "    - Value 2: flat\n",
    "    - Value 3: downsloping  \n",
    "12. ca: number of major vessels (0-3) colored by flourosopy       \n",
    "13. thal\n",
    "    - 3 = normal; \n",
    "    - 6 = fixed defect; \n",
    "    - 7 = reversable defect     \n",
    "14. num: diagnosis of heart disease (angiographic disease status)\n",
    "    - Value 0: < 50% diameter narrowing\n",
    "    - Value 1: > 50% diameter narrowing\n",
    "    - (in any major vessel: attributes 59 through 68 are vessels)"
   ]
  },
  {
   "cell_type": "markdown",
   "id": "064c9f38",
   "metadata": {},
   "source": [
    "<a id='section_1'></a>\n",
    "\n",
    "## def"
   ]
  }
 ],
 "metadata": {
  "kernelspec": {
   "display_name": "Python 3 (ipykernel)",
   "language": "python",
   "name": "python3"
  },
  "language_info": {
   "codemirror_mode": {
    "name": "ipython",
    "version": 3
   },
   "file_extension": ".py",
   "mimetype": "text/x-python",
   "name": "python",
   "nbconvert_exporter": "python",
   "pygments_lexer": "ipython3",
   "version": "3.10.12"
  }
 },
 "nbformat": 4,
 "nbformat_minor": 5
}
